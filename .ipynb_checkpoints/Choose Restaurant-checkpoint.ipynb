{
 "cells": [
  {
   "cell_type": "code",
   "execution_count": 1,
   "metadata": {},
   "outputs": [],
   "source": [
    "import pandas as pd"
   ]
  },
  {
   "cell_type": "code",
   "execution_count": 2,
   "metadata": {},
   "outputs": [],
   "source": [
    "def errorMsg( msg ):\n",
    "    return {'status':0, 'message':msg }\n",
    "\n",
    "def searchRestaurants( name, rating, distance, cuisine, price ):\n",
    "    # Prevent errors caused empty values in integer params\n",
    "    if rating=='': rating = None\n",
    "    if distance=='': distance = None\n",
    "    if price=='': price = None\n",
    "        \n",
    "    # Return error messages if rating, distance and price are not integers, None nor empty\n",
    "    if rating and not isinstance(rating, int):\n",
    "        return errorMsg(\"Rating param must be an integer\")\n",
    "    if distance and not isinstance(distance, int):\n",
    "        return errorMsg(\"Distance param must be an integer\")\n",
    "    if price and not isinstance(price, int):\n",
    "        return errorMsg(\"Price param must be an integer\")\n",
    "    \n",
    "    # Load csv's into memory\n",
    "    restaurants = pd.read_csv(\"restaurants.csv\")\n",
    "    cuisines = pd.read_csv(\"cuisines.csv\")\n",
    "    # Merge them using \"cuisine_id\" as foreign_key\n",
    "    restaurants = pd.merge(restaurants, cuisines, how='left', left_on = 'cuisine_id', right_on = 'id')\n",
    "    # Keep only important columns\n",
    "    restaurants = restaurants[['name_x', 'name_y', 'customer_rating', 'distance', 'price']]\n",
    "    # Rename columns\n",
    "    restaurants.columns = ['name', 'cuisine', 'customer_rating', 'distance', 'price']\n",
    "    \n",
    "    # Filter restaurants by name\n",
    "    if name and len(name)>0:\n",
    "        restaurants = restaurants[restaurants['name'].str.contains(name)]\n",
    "        \n",
    "    # Filter restaurants by customer_rating (greater than or equal to requested)\n",
    "    if rating!=None:\n",
    "        restaurants = restaurants[restaurants['customer_rating']>=rating]\n",
    "        \n",
    "     # Filter restaurants by distance (lower than or equal to requested)\n",
    "    if distance!=None:\n",
    "        restaurants = restaurants[restaurants['distance']<=distance]\n",
    "        \n",
    "     # Filter restaurants by price (lower than or equal to requested)\n",
    "    if price!=None:\n",
    "        restaurants = restaurants[restaurants['price']<=price]\n",
    "        \n",
    "    # Filter restaurants by cuisine\n",
    "    if cuisine and len(cuisine)>0:\n",
    "        restaurants = restaurants[restaurants['cuisine'].str.contains(cuisine)]\n",
    "    \n",
    "    # Sort restaurants by distance ASC, customer_rating DESC and price ASC\n",
    "    # So the best restaurants are those with lower distance, greater rating and lower price as possible\n",
    "    restaurants = restaurants.sort_values(by=[\"distance\", \"customer_rating\", \"price\"], \n",
    "                                          ascending=[True, False, True])\n",
    "    \n",
    "    # Filter restaurants to the 5 top choices\n",
    "    restaurants = restaurants.iloc[0:5]\n",
    "    \n",
    "    return {'status':1, 'data':restaurants }"
   ]
  },
  {
   "cell_type": "code",
   "execution_count": 3,
   "metadata": {},
   "outputs": [
    {
     "name": "stdout",
     "output_type": "stream",
     "text": [
      "               name  cuisine  customer_rating  distance  price\n",
      "0    Deliciousgenix  Spanish                4         1     10\n",
      "17   Deliciouszilla  Chinese                4         1     15\n",
      "53     Fodder Table   Korean                4         1     20\n",
      "115    Dished Grill   Korean                3         1     10\n",
      "153    Sizzle Yummy  Russian                3         1     15\n"
     ]
    }
   ],
   "source": [
    "#result = searchRestaurants( 'Bar', 3, 5, 'It', 20 )\n",
    "result = searchRestaurants( None, None, None, None, None )\n",
    "\n",
    "if result['status']==1:\n",
    "    print(result['data'])\n",
    "else:\n",
    "    print(result['message'])"
   ]
  },
  {
   "cell_type": "code",
   "execution_count": null,
   "metadata": {},
   "outputs": [],
   "source": []
  },
  {
   "cell_type": "code",
   "execution_count": null,
   "metadata": {},
   "outputs": [],
   "source": []
  },
  {
   "cell_type": "code",
   "execution_count": null,
   "metadata": {},
   "outputs": [],
   "source": []
  },
  {
   "cell_type": "code",
   "execution_count": null,
   "metadata": {},
   "outputs": [],
   "source": []
  },
  {
   "cell_type": "code",
   "execution_count": null,
   "metadata": {},
   "outputs": [],
   "source": []
  }
 ],
 "metadata": {
  "kernelspec": {
   "display_name": "Python 3",
   "language": "python",
   "name": "python3"
  },
  "language_info": {
   "codemirror_mode": {
    "name": "ipython",
    "version": 3
   },
   "file_extension": ".py",
   "mimetype": "text/x-python",
   "name": "python",
   "nbconvert_exporter": "python",
   "pygments_lexer": "ipython3",
   "version": "3.7.3"
  }
 },
 "nbformat": 4,
 "nbformat_minor": 2
}
